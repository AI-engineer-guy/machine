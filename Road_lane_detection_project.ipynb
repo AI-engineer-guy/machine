{
  "nbformat": 4,
  "nbformat_minor": 0,
  "metadata": {
    "colab": {
      "provenance": []
    },
    "kernelspec": {
      "name": "python3",
      "display_name": "Python 3"
    },
    "language_info": {
      "name": "python"
    }
  },
  "cells": [
    {
      "cell_type": "code",
      "execution_count": null,
      "metadata": {
        "id": "qq7dKIT61ek9",
        "outputId": "be134b44-07c5-48e0-9acd-077d75087319",
        "colab": {
          "base_uri": "https://localhost:8080/"
        }
      },
      "outputs": [
        {
          "output_type": "stream",
          "name": "stdout",
          "text": [
            "\u001b[31mERROR: Invalid requirement: '-'\u001b[0m\u001b[31m\n",
            "\u001b[0m"
          ]
        }
      ],
      "source": [
        " !pip install -q opencv - python"
      ]
    },
    {
      "cell_type": "code",
      "source": [
        "import numpy as np\n",
        "import pandas as pd\n",
        "import cv2\n",
        "from google.colab.patches import cv2_imshow\n",
        "from moviepy import editor\n",
        "import moviepy"
      ],
      "metadata": {
        "id": "eYYcPeM53Tm-"
      },
      "execution_count": null,
      "outputs": []
    },
    {
      "cell_type": "code",
      "source": [
        "def process_video(test_video,output_video):\n",
        "  input_video = editor.videofileClip(text_video,audio=false)\n",
        "  processed = input_video.f1_image(frame_processor)\n",
        "  processed.write_videofile(output_video,audio=false)"
      ],
      "metadata": {
        "id": "S-cDNp-z3_QT"
      },
      "execution_count": null,
      "outputs": []
    },
    {
      "cell_type": "code",
      "source": [
        "def frame_processor(image):\n",
        "  grayscale = cv2.cvtcolor(image,cv2.COLOR_BGR2GRAY)\n",
        "  kernel_size = 5\n",
        "  blur = cv2.GaussianBlur(grayscale, (kernel_size, kernel_size), 0)\n",
        "  low_t = 50\n",
        "  high_t = 150\n",
        "  edges = cv2.Canny(blur,low_t,high_t)\n",
        "  region = region_selection(edges)\n",
        "  hough = hough_transform(region)\n",
        "  result = draw_lane_lines(image,lane_lines(image,hough))\n",
        "  return result"
      ],
      "metadata": {
        "id": "4d7TkOPv5MzB"
      },
      "execution_count": null,
      "outputs": []
    },
    {
      "cell_type": "code",
      "source": [
        "def region_selection(image):\n",
        "  mask = np.zeros_like(image)\n",
        "  if len(image.shape) > 2:\n",
        "    channel_count = image.shape[2]\n",
        "    ignore_mask_color = (255,) *channel_count\n",
        "  else:\n",
        "    ignore_mask_color = 255\n",
        "  rows, cols = image.shape[:2]\n",
        "  bottom_left = [cols * 0.1, rows * 0.95]\n",
        "  top_left = [cols * 0.4,rows * 0.6]\n",
        "  bottom_right = [cols * 0.9, rows * 0.95]\n",
        "  top_right = [cols * 0.6,rows * 0.6]\n",
        "  vertices = np.array([[bottom_left,top_left,top_right,bottom_right]], dtype=np.int32)\n",
        "  cv2.fillpaly(mask,vertices,ignore_mask_color)\n",
        "  masked_image = cv2.bitwise_and(image,mask)\n",
        "  return masked_image"
      ],
      "metadata": {
        "id": "BccbO1lR8fDV"
      },
      "execution_count": null,
      "outputs": []
    },
    {
      "cell_type": "code",
      "source": [
        "def hough_transform(image):\n",
        "  rha = 1\n",
        "  theta = np.pi/180\n",
        "  threshold = 20\n",
        "  minlinelength = 20\n",
        "  maxlineGap = 580\n",
        "  return cv2.HoughLinesP(image,rho = rho,theta = theta, threshold = threshold,minLineLength = minLineLength, maxLineGap = maxLineGap)"
      ],
      "metadata": {
        "id": "CyOcRUjDCBan"
      },
      "execution_count": null,
      "outputs": []
    },
    {
      "cell_type": "code",
      "source": [
        "def average_slope_intercept(lines):\n",
        "  left_lines = []\n",
        "  left_weigths = []\n",
        "  rigth_lines = []\n",
        "  rigth_weigths = []\n",
        "\n",
        "  for line in lines:\n",
        "    for x1,y1,x2,y2 in line:\n",
        "      if x1 == x2:\n",
        "        continue\n",
        "      slope = (y2 - y1) / (x2 - x1)\n",
        "      intercept = y1 - (slope * x1)\n",
        "      length = np.sqrt(((y2 - y1) **2) + ((x2 - x1) **2))\n",
        "      if slope < 0:\n",
        "        left_lines.append((slope,intercept))\n",
        "        left_weigths.append((length))\n",
        "      else:\n",
        "        right_lines.append((slope,intercept))\n",
        "        right_weigths.append((length))\n",
        "\n",
        "  left_lane = np.dot(left_weigths, left_lines) / np.sum(left_weights) if len(left_weigths) > 0 else none\n",
        "  rigth_lane = np.dot(right_weigths, rigth_lines) / np.sum(rigth_weights) if len(rigth_weigths) > 0 else none\n",
        "  return left_lane, right_lane\n",
        "\n",
        "def pixel_points(y1,y2,line):\n",
        "\n",
        "  if line is none:\n",
        "    return none\n",
        "  slope, intercept = line\n",
        "  x1 = int ((y1 - intercept)/slope)\n",
        "  x2 = int ((y2 - intercept)/slope)\n",
        "  y1 = int(y1)\n",
        "  y2 = int(y2)\n",
        "  return ((x1, y1), (x2, y2))\n",
        "\n",
        "def lane_lines(image,lines):\n",
        "\n",
        "  left_lane,right_lane = average_slope_intercept(lines)\n",
        "  y1 = image.shape[0]\n",
        "  y2 = y1 * 0.6\n",
        "  left_line = pixel_points(y1,y2,left_lane)\n",
        "  right_line = pixel_points(y1,y2, right_lane)\n",
        "  return left_line, right_line\n",
        "\n",
        "def draw_lane_lines(image,lines,color=[255,0,0], thickness=12):\n",
        "\n",
        "  line_image = np.zeros_like(image)\n",
        "  for line in lines:\n",
        "    if line is not none:\n",
        "      cv2.line(line_image,*line,color,thickness)\n",
        "  return cv2.addWeighted(image, 1.0, line_image, 1.0, 0.0)\n",
        "\n",
        "\n"
      ],
      "metadata": {
        "id": "KL5wxcuQEknp"
      },
      "execution_count": null,
      "outputs": []
    }
  ]
}